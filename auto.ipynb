{
 "cells": [
  {
   "cell_type": "code",
   "execution_count": 2,
   "source": [
    "import mouse\r\n",
    "import time"
   ],
   "outputs": [],
   "metadata": {}
  },
  {
   "cell_type": "code",
   "execution_count": 4,
   "source": [
    "mouse.get_position()\r\n",
    "mouse.move(40, 100, absolute=True, duration=3)\r\n",
    "time.sleep(4)\r\n",
    "mouse.click(button='left')\r\n",
    "time.sleep(2)\r\n",
    "mouse.right_click()\r\n",
    "mouse.move(40, 550, absolute=True, duration=1)\r\n",
    "\r\n"
   ],
   "outputs": [],
   "metadata": {}
  },
  {
   "cell_type": "code",
   "execution_count": null,
   "source": [],
   "outputs": [],
   "metadata": {}
  }
 ],
 "metadata": {
  "orig_nbformat": 4,
  "language_info": {
   "name": "python",
   "version": "3.8.5",
   "mimetype": "text/x-python",
   "codemirror_mode": {
    "name": "ipython",
    "version": 3
   },
   "pygments_lexer": "ipython3",
   "nbconvert_exporter": "python",
   "file_extension": ".py"
  },
  "kernelspec": {
   "name": "python3",
   "display_name": "Python 3.8.5 64-bit ('base': conda)"
  },
  "interpreter": {
   "hash": "c551f819b1c01c272e9d55a7bed20d192fd7302b2a7cb137710d7f8686bb5a7d"
  }
 },
 "nbformat": 4,
 "nbformat_minor": 2
}