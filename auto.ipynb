{
 "cells": [
  {
   "cell_type": "code",
   "execution_count": 15,
   "source": [
    "from pynput.mouse import Button, Controller\r\n",
    "\r\n",
    "mouse = Controller()\r\n",
    "mouse.move(20, -13)\r\n",
    "mouse.click(Button.left, 2)"
   ],
   "outputs": [],
   "metadata": {}
  },
  {
   "cell_type": "code",
   "execution_count": null,
   "source": [],
   "outputs": [],
   "metadata": {}
  }
 ],
 "metadata": {
  "orig_nbformat": 4,
  "language_info": {
   "name": "python",
   "version": "3.8.5",
   "mimetype": "text/x-python",
   "codemirror_mode": {
    "name": "ipython",
    "version": 3
   },
   "pygments_lexer": "ipython3",
   "nbconvert_exporter": "python",
   "file_extension": ".py"
  },
  "kernelspec": {
   "name": "python3",
   "display_name": "Python 3.8.5 64-bit ('base': conda)"
  },
  "interpreter": {
   "hash": "c551f819b1c01c272e9d55a7bed20d192fd7302b2a7cb137710d7f8686bb5a7d"
  }
 },
 "nbformat": 4,
 "nbformat_minor": 2
}